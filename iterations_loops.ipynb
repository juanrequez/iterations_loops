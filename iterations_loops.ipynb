{
 "cells": [
  {
   "cell_type": "markdown",
   "id": "23a170e0",
   "metadata": {},
   "source": [
    "# Iteraciones en Python\n",
    "## Capítulo 6 - Curso de Python para ingeniería\n",
    "### creado por Juan Pablo Requez - juanrequez@gmail.com"
   ]
  },
  {
   "cell_type": "markdown",
   "id": "79a1bfe1",
   "metadata": {},
   "source": [
    "Primer ejemplo. Una iteración simple."
   ]
  },
  {
   "cell_type": "code",
   "execution_count": 2,
   "id": "1b80aa09",
   "metadata": {},
   "outputs": [
    {
     "name": "stdout",
     "output_type": "stream",
     "text": [
      "64.0\n",
      "4.0\n",
      "1\n",
      "67.24\n",
      "81\n"
     ]
    }
   ],
   "source": [
    "for i in [8.0, 2.0, 1, 8.2, 9]:\n",
    "    print (i**2)"
   ]
  },
  {
   "cell_type": "markdown",
   "id": "67e8062b",
   "metadata": {},
   "source": [
    "Segundo ejemplo. Una iteración que usa una list de strings para iterar"
   ]
  },
  {
   "cell_type": "code",
   "execution_count": 8,
   "id": "7df3f1d9",
   "metadata": {},
   "outputs": [
    {
     "name": "stdout",
     "output_type": "stream",
     "text": [
      "el nombre de la fruta es manzana\n",
      "el nombre de la fruta es naranja\n",
      "el nombre de la fruta es piña\n",
      "el nombre de la fruta es cambur\n",
      "el nombre de la fruta es kiwi\n"
     ]
    }
   ],
   "source": [
    "frutas = [\"manzana\", \"naranja\", \"piña\", \"cambur\", \"kiwi\"]\n",
    "for x in frutas:\n",
    "    print (\"el nombre de la fruta es {}\".format(x))"
   ]
  },
  {
   "cell_type": "markdown",
   "id": "8cd8abbf",
   "metadata": {},
   "source": [
    "Usar un string para iterar"
   ]
  },
  {
   "cell_type": "code",
   "execution_count": 9,
   "id": "1bef0023",
   "metadata": {},
   "outputs": [
    {
     "name": "stdout",
     "output_type": "stream",
     "text": [
      "i\n",
      "n\n",
      "t\n",
      "e\n",
      "r\n",
      "e\n",
      "s\n",
      "t\n",
      "e\n",
      "l\n",
      "a\n",
      "r\n"
     ]
    }
   ],
   "source": [
    "for y in \"interestelar\":\n",
    "    print(y)\n"
   ]
  },
  {
   "cell_type": "markdown",
   "id": "adb17ba7",
   "metadata": {},
   "source": [
    "### Comprehensions\n",
    "Se creará un vector y que contenga los cuadrados de 3, 4, 5, 6, 7"
   ]
  },
  {
   "cell_type": "code",
   "execution_count": 11,
   "id": "48692ad3",
   "metadata": {},
   "outputs": [
    {
     "name": "stdout",
     "output_type": "stream",
     "text": [
      "[9, 16, 25, 36, 49]\n"
     ]
    }
   ],
   "source": [
    "x=[3, 4, 5, 6, 7]\n",
    "y=[i**2 for i in x]\n",
    "print(y)"
   ]
  },
  {
   "cell_type": "code",
   "execution_count": null,
   "id": "d99a5f82",
   "metadata": {},
   "outputs": [],
   "source": []
  }
 ],
 "metadata": {
  "kernelspec": {
   "display_name": "Python 3 (ipykernel)",
   "language": "python",
   "name": "python3"
  },
  "language_info": {
   "codemirror_mode": {
    "name": "ipython",
    "version": 3
   },
   "file_extension": ".py",
   "mimetype": "text/x-python",
   "name": "python",
   "nbconvert_exporter": "python",
   "pygments_lexer": "ipython3",
   "version": "3.10.5"
  }
 },
 "nbformat": 4,
 "nbformat_minor": 5
}
